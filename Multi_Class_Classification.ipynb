{
  "nbformat": 4,
  "nbformat_minor": 0,
  "metadata": {
    "colab": {
      "name": "Multi_Class_Classification.ipynb",
      "provenance": [],
      "mount_file_id": "1dHIu-QfgeIv83yUCElQRS6umR-RaDAOM",
      "authorship_tag": "ABX9TyM0x3IWsYSQsQkMjtUCZkX5",
      "include_colab_link": true
    },
    "kernelspec": {
      "name": "python3",
      "display_name": "Python 3"
    },
    "language_info": {
      "name": "python"
    },
    "accelerator": "GPU",
    "gpuClass": "standard"
  },
  "cells": [
    {
      "cell_type": "markdown",
      "metadata": {
        "id": "view-in-github",
        "colab_type": "text"
      },
      "source": [
        "<a href=\"https://colab.research.google.com/github/Sugina99/Deep_Learning_Studies/blob/main/Multi_Class_Classification.ipynb\" target=\"_parent\"><img src=\"https://colab.research.google.com/assets/colab-badge.svg\" alt=\"Open In Colab\"/></a>"
      ]
    },
    {
      "cell_type": "code",
      "execution_count": 1,
      "metadata": {
        "id": "49ngYglJPOtT"
      },
      "outputs": [],
      "source": [
        "import tensorflow as tf\n",
        "from tensorflow.keras.models import Sequential\n",
        "from tensorflow.keras.layers import Dense,Conv2D,Flatten,Dropout,MaxPooling2D\n",
        "\n",
        "from tensorflow.keras.preprocessing.image import ImageDataGenerator\n",
        "from tensorflow.keras import layers,Model\n",
        "\n",
        "import os\n",
        "import numpy as np\n",
        "import matplotlib.pyplot as plt"
      ]
    },
    {
      "cell_type": "code",
      "source": [
        "# ! unzip \"/content/drive/MyDrive/LibrariesForAI/Deep_learning/Transfer_Learning/Intel_Image_Multiclass/test.zip\" -d \"/content/drive/MyDrive/LibrariesForAI/Deep_learning/Transfer_Learning/Intel_Image_Multiclass/test\""
      ],
      "metadata": {
        "id": "2CEQb-cl-ad-"
      },
      "execution_count": 2,
      "outputs": []
    },
    {
      "cell_type": "code",
      "source": [
        "# ! unzip \"/content/drive/MyDrive/LibrariesForAI/Deep_learning/Transfer_Learning/Intel_Image_Multiclass/train.zip\" -d \"/content/drive/MyDrive/LibrariesForAI/Deep_learning/Transfer_Learning/Intel_Image_Multiclass/train\"\n",
        "# ! unzip \"/content/drive/MyDrive/LibrariesForAI/Deep_learning/Transfer_Learning/Intel_Image_Multiclass/validation.zip\" -d \"/content/drive/MyDrive/LibrariesForAI/Deep_learning/Transfer_Learning/Intel_Image_Multiclass/validation\""
      ],
      "metadata": {
        "id": "6Lprqx-C-wL9"
      },
      "execution_count": 3,
      "outputs": []
    },
    {
      "cell_type": "code",
      "source": [
        "train_path=\"/content/drive/MyDrive/LibrariesForAI/Deep_learning/Transfer_Learning/Intel_Image_Multiclass/train/seg_train\"\n",
        "validation_path=\"/content/drive/MyDrive/LibrariesForAI/Deep_learning/Transfer_Learning/Intel_Image_Multiclass/validation/seg_test\""
      ],
      "metadata": {
        "id": "9U6EAm_K5GnF"
      },
      "execution_count": 4,
      "outputs": []
    },
    {
      "cell_type": "code",
      "source": [
        "! ls \"/content/drive/MyDrive/LibrariesForAI/Deep_learning/Transfer_Learning/Intel_Image_Multiclass/train/seg_train\""
      ],
      "metadata": {
        "colab": {
          "base_uri": "https://localhost:8080/"
        },
        "id": "kgyNRxM6_-lx",
        "outputId": "390fcb45-c051-4a48-cd35-9e8ef228b35a"
      },
      "execution_count": 5,
      "outputs": [
        {
          "output_type": "stream",
          "name": "stdout",
          "text": [
            "buildings  forest  glacier  mountain  sea  street\n"
          ]
        }
      ]
    },
    {
      "cell_type": "markdown",
      "source": [
        "# Transfer Learning - InceptionResNetV2"
      ],
      "metadata": {
        "id": "r2KJKSD15cMG"
      }
    },
    {
      "cell_type": "code",
      "source": [
        "# basic parameters\n",
        "batch_size=32 # power of 2---->32,64,128,256,512\n",
        "epochs=10\n",
        "Image_height=150\n",
        "Image_width=150\n"
      ],
      "metadata": {
        "id": "Kdf6yquE6M3O"
      },
      "execution_count": 6,
      "outputs": []
    },
    {
      "cell_type": "markdown",
      "source": [
        "### Image Augmentation\n"
      ],
      "metadata": {
        "id": "S51t8CS4DCE3"
      }
    },
    {
      "cell_type": "code",
      "source": [
        "# train\n",
        "train_data_gen=ImageDataGenerator(rescale=1./255,\n",
        "                                 horizontal_flip=True,\n",
        "                                 rotation_range=45,\n",
        "                                 zoom_range=0.2,\n",
        "                                 height_shift_range=0.2,\n",
        "                                 width_shift_range=0.2)\n",
        "# validation                                 \n",
        "validation_data_gen=ImageDataGenerator(rescale=1./255)"
      ],
      "metadata": {
        "id": "6xzrLP9e5BFb"
      },
      "execution_count": 7,
      "outputs": []
    },
    {
      "cell_type": "markdown",
      "source": [
        "### Traing and Validation set"
      ],
      "metadata": {
        "id": "50WbY963DJTd"
      }
    },
    {
      "cell_type": "code",
      "source": [
        "train_generator=train_data_gen.flow_from_directory(batch_size=batch_size,\n",
        "                                              target_size=(Image_height,Image_width),\n",
        "                                              directory=train_path,\n",
        "                                              shuffle=True,\n",
        "                                              class_mode=\"categorical\")"
      ],
      "metadata": {
        "colab": {
          "base_uri": "https://localhost:8080/"
        },
        "id": "t_HyWWwd6uws",
        "outputId": "988d4543-1163-4d7e-d582-4e0bd6585581"
      },
      "execution_count": 8,
      "outputs": [
        {
          "output_type": "stream",
          "name": "stdout",
          "text": [
            "Found 14034 images belonging to 6 classes.\n"
          ]
        }
      ]
    },
    {
      "cell_type": "code",
      "source": [
        "validation_generator=validation_data_gen.flow_from_directory(batch_size=batch_size,\n",
        "                                              target_size=(Image_height,Image_width),\n",
        "                                              directory=validation_path,\n",
        "                                              shuffle=True,\n",
        "                                              class_mode=\"categorical\")"
      ],
      "metadata": {
        "colab": {
          "base_uri": "https://localhost:8080/"
        },
        "id": "C_BcHlHX7f2c",
        "outputId": "cc7512e7-c8a8-4038-8bfc-380b4fbf56d5"
      },
      "execution_count": 9,
      "outputs": [
        {
          "output_type": "stream",
          "name": "stdout",
          "text": [
            "Found 3000 images belonging to 6 classes.\n"
          ]
        }
      ]
    },
    {
      "cell_type": "markdown",
      "source": [
        "### Loading base model\n"
      ],
      "metadata": {
        "id": "-1o6_lCJEEu1"
      }
    },
    {
      "cell_type": "code",
      "source": [
        "base_model=tf.keras.applications.InceptionResNetV2(input_shape=(150,150,3),\n",
        "                             include_top=False,\n",
        "                             weights=\"imagenet\")"
      ],
      "metadata": {
        "id": "bvC6KOke7pQn",
        "colab": {
          "base_uri": "https://localhost:8080/"
        },
        "outputId": "089c0f67-0103-4759-985d-13c70c45f142"
      },
      "execution_count": 10,
      "outputs": [
        {
          "output_type": "stream",
          "name": "stdout",
          "text": [
            "Downloading data from https://storage.googleapis.com/tensorflow/keras-applications/inception_resnet_v2/inception_resnet_v2_weights_tf_dim_ordering_tf_kernels_notop.h5\n",
            "219062272/219055592 [==============================] - 2s 0us/step\n",
            "219070464/219055592 [==============================] - 2s 0us/step\n"
          ]
        }
      ]
    },
    {
      "cell_type": "code",
      "source": [
        "# Freezing the CNN layer\n",
        "# for layer in base_model.layers:\n",
        "#   layer.trainable=False\n",
        "# or we can use\n",
        "base_model.trainable=False"
      ],
      "metadata": {
        "id": "BUfHAhojASqC"
      },
      "execution_count": 11,
      "outputs": []
    },
    {
      "cell_type": "code",
      "source": [
        "model=tf.keras.Sequential([\n",
        "    base_model,\n",
        "    tf.keras.layers.BatchNormalization(renorm=True),\n",
        "    tf.keras.layers.GlobalAveragePooling2D(),\n",
        "    tf.keras.layers.Flatten(),\n",
        "    tf.keras.layers.Dense(512,activation='relu'),\n",
        "    tf.keras.layers.Dense(256,activation='relu'),\n",
        "    tf.keras.layers.Dropout(0.5),\n",
        "    tf.keras.layers.Dense(128,activation='relu'),\n",
        "    tf.keras.layers.Dense(6,activation='softmax')\n",
        "])"
      ],
      "metadata": {
        "id": "x6N3jwlQAfCX"
      },
      "execution_count": 12,
      "outputs": []
    },
    {
      "cell_type": "markdown",
      "source": [
        "### Compile and Fit"
      ],
      "metadata": {
        "id": "3N7UR91Y70lT"
      }
    },
    {
      "cell_type": "code",
      "source": [
        "model.compile(optimizer='Adam',loss='categorical_crossentropy',metrics=['accuracy'])"
      ],
      "metadata": {
        "id": "OrXYRBWrBZBy"
      },
      "execution_count": 13,
      "outputs": []
    },
    {
      "cell_type": "code",
      "source": [
        "model.fit(train_generator,\n",
        "          steps_per_epoch=(14034//batch_size),\n",
        "          epochs=5,\n",
        "          validation_data=validation_generator,\n",
        "          validation_steps=(3000//batch_size))"
      ],
      "metadata": {
        "colab": {
          "base_uri": "https://localhost:8080/"
        },
        "id": "OSl1DoFc2nyr",
        "outputId": "a606cb03-4ab1-4268-8b24-bfeb75426f7f"
      },
      "execution_count": null,
      "outputs": [
        {
          "output_type": "stream",
          "name": "stdout",
          "text": [
            "Epoch 1/5\n",
            " 64/438 [===>..........................] - ETA: 2:49:22 - loss: 0.9635 - accuracy: 0.6465"
          ]
        }
      ]
    },
    {
      "cell_type": "markdown",
      "source": [
        "### Saving Model"
      ],
      "metadata": {
        "id": "i_647OnwdiaB"
      }
    },
    {
      "cell_type": "code",
      "source": [
        "model.Save(\"/content/drive/MyDrive/LibrariesForAI/Deep_learning/Transfer_Learning/Intel_Image_Multiclass/Multiclasses.h5\")"
      ],
      "metadata": {
        "id": "XwhzPQ7Z94SW",
        "colab": {
          "base_uri": "https://localhost:8080/",
          "height": 165
        },
        "outputId": "b1d66751-885a-4eb8-9bfe-c74f76b5f8e4"
      },
      "execution_count": null,
      "outputs": [
        {
          "output_type": "error",
          "ename": "NameError",
          "evalue": "ignored",
          "traceback": [
            "\u001b[0;31m---------------------------------------------------------------------------\u001b[0m",
            "\u001b[0;31mNameError\u001b[0m                                 Traceback (most recent call last)",
            "\u001b[0;32m<ipython-input-1-75c0ad5e3810>\u001b[0m in \u001b[0;36m<module>\u001b[0;34m\u001b[0m\n\u001b[0;32m----> 1\u001b[0;31m \u001b[0mmodel\u001b[0m\u001b[0;34m.\u001b[0m\u001b[0mSave\u001b[0m\u001b[0;34m(\u001b[0m\u001b[0;34m\"/content/drive/MyDrive/LibrariesForAI/Deep_learning/Transfer_Learning/Intel_Image_Multiclass/Multiclasses.h5\"\u001b[0m\u001b[0;34m)\u001b[0m\u001b[0;34m\u001b[0m\u001b[0;34m\u001b[0m\u001b[0m\n\u001b[0m",
            "\u001b[0;31mNameError\u001b[0m: name 'model' is not defined"
          ]
        }
      ]
    },
    {
      "cell_type": "markdown",
      "source": [
        "### Loading Model"
      ],
      "metadata": {
        "id": "3Ivn5_ynh0nv"
      }
    },
    {
      "cell_type": "code",
      "source": [
        "from keras.models import load_model\n",
        "model=load_model(\"/content/drive/MyDrive/LibrariesForAI/Deep_learning/Transfer_Learning/Intel_Image_Multiclass/Multiclasses.h5\")"
      ],
      "metadata": {
        "id": "F531Xn-Yh4RG"
      },
      "execution_count": null,
      "outputs": []
    },
    {
      "cell_type": "markdown",
      "source": [
        "### Testing the model on the test data set"
      ],
      "metadata": {
        "id": "cJlC74VFiFqU"
      }
    },
    {
      "cell_type": "code",
      "source": [
        "test_dataset=\"/content/drive/MyDrive/LibrariesForAI/Deep_learning/Transfer_Learning/Intel_Image_Multiclass/test/seg_pred\""
      ],
      "metadata": {
        "id": "B4IEzzOGiNdX"
      },
      "execution_count": null,
      "outputs": []
    },
    {
      "cell_type": "code",
      "source": [
        "test_data_gen=ImageDataGenerator(rescale=1./255)\n",
        "test_generator=test_data_gen.flow_from_directory(batch_size=batch_size,\n",
        "                                              target_size=(Image_height,Image_width),\n",
        "                                              directory=train_path,\n",
        "                                              shuffle=False,\n",
        "                                              class_mode=\"categorical\")"
      ],
      "metadata": {
        "id": "mTDIiUWwi3LN"
      },
      "execution_count": null,
      "outputs": []
    },
    {
      "cell_type": "markdown",
      "source": [
        "### Model Prediction"
      ],
      "metadata": {
        "id": "AGmebGKMLGxy"
      }
    },
    {
      "cell_type": "code",
      "source": [
        "predictions=model.predict(test_generator)"
      ],
      "metadata": {
        "id": "sYk1iY88LNNB"
      },
      "execution_count": null,
      "outputs": []
    },
    {
      "cell_type": "code",
      "source": [
        "labels={value:key for key,value in train_generator.class_indices.items()}\n",
        "labels"
      ],
      "metadata": {
        "id": "JtHIFuuERtpf"
      },
      "execution_count": null,
      "outputs": []
    },
    {
      "cell_type": "code",
      "source": [
        "fig,ax=plt.subplots(nrows=2,ncols=5,figsize=(12,10))\n",
        "idx=0\n",
        "\n",
        "for i in range(2):\n",
        "  for j in range(5):\n",
        "    predicted_label=labels[np.argmax(predictions[idx])]\n",
        "    ax[i,j].set_title(f\"{predicted_label}\")\n",
        "    ax[i,j].imshow((test_generator[0][0][idx]))\n",
        "    ax[i,j].axis('off')\n",
        "    idx+=1\n",
        "plt.tight_layout()\n",
        "plt.subtitle(\"Test Data Predictions\",fintsize=20)\n",
        "plt.show()"
      ],
      "metadata": {
        "id": "p6FZ-o2WNO_K"
      },
      "execution_count": null,
      "outputs": []
    }
  ]
}