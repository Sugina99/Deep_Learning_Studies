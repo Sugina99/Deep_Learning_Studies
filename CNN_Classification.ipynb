{
  "nbformat": 4,
  "nbformat_minor": 0,
  "metadata": {
    "colab": {
      "name": "CNN_Classification.ipynb",
      "provenance": [],
      "mount_file_id": "1gyElXlkzgCGaisNJ-AR0n1jnBQaTbryj",
      "authorship_tag": "ABX9TyNfqm/9+lMGkss0k+p/62Ft",
      "include_colab_link": true
    },
    "kernelspec": {
      "name": "python3",
      "display_name": "Python 3"
    },
    "language_info": {
      "name": "python"
    },
    "accelerator": "GPU",
    "gpuClass": "standard"
  },
  "cells": [
    {
      "cell_type": "markdown",
      "metadata": {
        "id": "view-in-github",
        "colab_type": "text"
      },
      "source": [
        "<a href=\"https://colab.research.google.com/github/Sugina99/Deep_Learning_Studies/blob/main/CNN_Classification.ipynb\" target=\"_parent\"><img src=\"https://colab.research.google.com/assets/colab-badge.svg\" alt=\"Open In Colab\"/></a>"
      ]
    },
    {
      "cell_type": "code",
      "execution_count": 2,
      "metadata": {
        "id": "5A75TC8Bw7kf"
      },
      "outputs": [],
      "source": [
        "# import libraries\n",
        "import tensorflow as tf\n",
        "from tensorflow.keras.models import Sequential\n",
        "from tensorflow.keras.layers import Dense,Conv2D,Flatten,Dropout,MaxPool2D\n",
        "from tensorflow.keras.preprocessing.image import ImageDataGenerator\n",
        "\n",
        "import os\n",
        "import numpy as np\n",
        "import matplotlib.pyplot as plt\n"
      ]
    },
    {
      "cell_type": "code",
      "source": [
        "_URL='https://storage.googleapis.com/mledu-datasets/cats_and_dogs_filtered.zip'\n",
        "path_to_zip=tf.keras.utils.get_file('/content/drive/MyDrive/LibrariesForAI/Deep_learning/CNN/cats_and_dogs.zip',origin=_URL,extract=True)"
      ],
      "metadata": {
        "id": "cJWN6vkOzzGP"
      },
      "execution_count": 4,
      "outputs": []
    },
    {
      "cell_type": "code",
      "source": [
        "PATH=os.path.join(os.path.dirname(path_to_zip),'cats_and_dogs.zip')\n",
        "PATH"
      ],
      "metadata": {
        "colab": {
          "base_uri": "https://localhost:8080/",
          "height": 36
        },
        "id": "oTlTCm1z17g4",
        "outputId": "d8a7f8ab-ebbd-42aa-fb3a-458d5094e685"
      },
      "execution_count": 6,
      "outputs": [
        {
          "output_type": "execute_result",
          "data": {
            "text/plain": [
              "'/content/drive/MyDrive/LibrariesForAI/Deep_learning/CNN/cats_and_dogs.zip'"
            ],
            "application/vnd.google.colaboratory.intrinsic+json": {
              "type": "string"
            }
          },
          "metadata": {},
          "execution_count": 6
        }
      ]
    },
    {
      "cell_type": "code",
      "source": [
        "# PATH=os.path.join(os.path.dirname(path_to_zip),'cats_and_dogs.zip')\n",
        "# New_PATH='/content/drive/MyDrive/LibrariesForAI/Deep_learning/CNN/cats_and_dogs'\n",
        "\n",
        "# !unzip $PATH -d $New_PATH"
      ],
      "metadata": {
        "id": "mj-00KpH1_Ih"
      },
      "execution_count": 8,
      "outputs": []
    },
    {
      "cell_type": "code",
      "source": [
        "DataPath='/content/drive/MyDrive/LibrariesForAI/Deep_learning/CNN/cats_and_dogs/cats_and_dogs_filtered'\n",
        "DataPath"
      ],
      "metadata": {
        "id": "U-0ytCxM43nr",
        "outputId": "820ac844-8656-42bf-8d7c-41399b16c46c",
        "colab": {
          "base_uri": "https://localhost:8080/",
          "height": 36
        }
      },
      "execution_count": 9,
      "outputs": [
        {
          "output_type": "execute_result",
          "data": {
            "text/plain": [
              "'/content/drive/MyDrive/LibrariesForAI/Deep_learning/CNN/cats_and_dogs/cats_and_dogs_filtered'"
            ],
            "application/vnd.google.colaboratory.intrinsic+json": {
              "type": "string"
            }
          },
          "metadata": {},
          "execution_count": 9
        }
      ]
    },
    {
      "cell_type": "code",
      "source": [
        "! ls $DataPath"
      ],
      "metadata": {
        "id": "oaeOcNsD-yHT",
        "outputId": "85a3783f-7249-46fa-ed0d-26b7d6042d60",
        "colab": {
          "base_uri": "https://localhost:8080/"
        }
      },
      "execution_count": 13,
      "outputs": [
        {
          "output_type": "stream",
          "name": "stdout",
          "text": [
            "train  validation  vectorize.py\n"
          ]
        }
      ]
    },
    {
      "cell_type": "code",
      "source": [
        "train_dir=os.path.join(DataPath,'train')\n",
        "validation_dir=os.path.join(DataPath,'validation')"
      ],
      "metadata": {
        "id": "dRmPQOn28Xzr"
      },
      "execution_count": 14,
      "outputs": []
    },
    {
      "cell_type": "code",
      "source": [
        "TrainCat_dir=os.path.join(train_dir,'cats') #directory of training cat pics\n",
        "TrainDog_dir=os.path.join(train_dir,'dogs') #directory of training dog pics\n",
        "ValidationCat_dir=os.path.join(validation_dir,'cats') #directory of validation cat pics\n",
        "ValidationDog_dir=os.path.join(validation_dir,'dogs') #directory of validation dogs pics"
      ],
      "metadata": {
        "id": "6vxYa1xz-kjw"
      },
      "execution_count": 17,
      "outputs": []
    },
    {
      "cell_type": "code",
      "source": [
        "num_cat_tr=len(os.listdir(TrainCat_dir))\n",
        "num_dog_tr=len(os.listdir(TrainDog_dir))\n",
        "num_cat_val=len(os.listdir(ValidationCat_dir))\n",
        "num_dog_val=len(os.listdir(ValidationDog_dir))\n",
        "\n",
        "total_train=num_cat_tr + num_dog_tr\n",
        "total_validation=num_cat_val + num_dog_val"
      ],
      "metadata": {
        "id": "_E1yZeYXAa2m"
      },
      "execution_count": 19,
      "outputs": []
    },
    {
      "cell_type": "code",
      "source": [
        "print(\"total training cat images : \",num_cat_tr)\n",
        "print(\"total training dog images : \",num_dog_tr)\n",
        "print(\"------------------------------------\")\n",
        "print(\"total validation cat images : \",num_cat_val)\n",
        "print(\"total validation dog images : \",num_dog_val)\n",
        "print(\"------------------------------------\")\n",
        "print(\"total training images : \",total_train)\n",
        "print(\"total validation images : \",total_validation)"
      ],
      "metadata": {
        "id": "7OiNCJCfCNrC",
        "outputId": "1798be20-c95f-44f5-cac5-cf974a503c4e",
        "colab": {
          "base_uri": "https://localhost:8080/"
        }
      },
      "execution_count": 21,
      "outputs": [
        {
          "output_type": "stream",
          "name": "stdout",
          "text": [
            "total training cat images :  1000\n",
            "total training dog images :  1000\n",
            "------------------------------------\n",
            "total validation cat images :  500\n",
            "total validation dog images :  500\n",
            "------------------------------------\n",
            "total training images :  2000\n",
            "total validation images :  1000\n"
          ]
        }
      ]
    },
    {
      "cell_type": "code",
      "source": [
        "batch_size=128\n",
        "epochs=30\n",
        "IMG_HEIGHT=150\n",
        "IMG_WIDTH=150"
      ],
      "metadata": {
        "id": "Tmi0_BTDDum7"
      },
      "execution_count": 23,
      "outputs": []
    },
    {
      "cell_type": "code",
      "source": [
        "train_image_generator=ImageDataGenerator(rescale=1./255) # generator for training data\n",
        "validation_image_generator=ImageDataGenerator(rescale=1./255) # generator for validation data"
      ],
      "metadata": {
        "id": "9PXeJ402Knx1"
      },
      "execution_count": 24,
      "outputs": []
    },
    {
      "cell_type": "code",
      "source": [
        "train_image_generator.flow_from_directory(batch_size=batch_size,\n",
        "                                          directory=train_dir,\n",
        "                                          shuffle=True,\n",
        "                                          target_size=(IMG_HEIGHT,IMG_WIDTH),\n",
        "                                          class_mode='binary') # multiclass---> class_mode='categorical'"
      ],
      "metadata": {
        "id": "WnIjLPxQMqWv",
        "outputId": "cb0a2275-6bc8-4ac6-ce48-28826a7f6232",
        "colab": {
          "base_uri": "https://localhost:8080/"
        }
      },
      "execution_count": 26,
      "outputs": [
        {
          "output_type": "stream",
          "name": "stdout",
          "text": [
            "Found 2000 images belonging to 2 classes.\n"
          ]
        },
        {
          "output_type": "execute_result",
          "data": {
            "text/plain": [
              "<keras.preprocessing.image.DirectoryIterator at 0x7fa0bae0e650>"
            ]
          },
          "metadata": {},
          "execution_count": 26
        }
      ]
    },
    {
      "cell_type": "code",
      "source": [
        ""
      ],
      "metadata": {
        "id": "acZppkobN9Vj"
      },
      "execution_count": null,
      "outputs": []
    }
  ]
}